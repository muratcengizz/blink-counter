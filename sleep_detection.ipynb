{
 "cells": [
  {
   "cell_type": "code",
   "execution_count": 1,
   "id": "f57f5783-434c-40a6-9a03-6db5fdf14f31",
   "metadata": {},
   "outputs": [],
   "source": [
    "import cv2\n",
    "import cvzone\n",
    "from cvzone.FaceMeshModule import FaceMeshDetector\n",
    "from cvzone.PlotModule import LivePlot"
   ]
  },
  {
   "cell_type": "code",
   "execution_count": 72,
   "id": "58d9a593-7a2b-4fe6-8aeb-7b98cfedb47e",
   "metadata": {
    "tags": []
   },
   "outputs": [],
   "source": [
    "video = cv2.VideoCapture(filename=\"videos/sleep_detection2.mp4\")\n",
    "\n",
    "width = 0\n",
    "height = 0\n",
    "\n",
    "#writer = cv2.VideoWriter(filename=\"videos/sleepd.mp4\",\n",
    "#                         fourcc=cv2.VideoWriter_fourcc(*\"DIVX\"),\n",
    "#                         fps=50,\n",
    "#                         frameSize=(360, 1180))\n",
    "\n",
    "idList = [22, 23, 24, 26, 110, 157, 158, 160, 161, 130, 243]\n",
    "color = (0, 0, 255)\n",
    "\n",
    "detector = FaceMeshDetector()\n",
    "plotY = LivePlot(w=540, h=360, yLimit=[10, 60])\n",
    "\n",
    "ratioList = []\n",
    "\n",
    "counter, blickCounter = 0, 0\n",
    "\n",
    "while True:\n",
    "    retval, img = video.read()\n",
    "    if not retval: break\n",
    "    \n",
    "    \n",
    "    \n",
    "    img, faces = detector.findFaceMesh(img=img, draw=False)\n",
    "    if faces:\n",
    "        face = faces[0] #x\n",
    "        for id in idList:\n",
    "            cv2.circle(img=img,\n",
    "                       center=face[id],\n",
    "                       radius=5,\n",
    "                       color=color,\n",
    "                       thickness=cv2.FILLED)\n",
    "            \n",
    "        leftUp = face[159]\n",
    "        leftDown = face[23]\n",
    "        leftLeft = face[130]\n",
    "        leftRight = face[243]\n",
    "        \n",
    "        lengthVertically, _ = detector.findDistance(p1=leftUp, p2=leftDown) # iki nokta arasındaki mesafeyi ölçüyoruz\n",
    "        lengthHorizontally, _ = detector.findDistance(p1=leftLeft, p2=leftRight)\n",
    "        \n",
    "        cv2.line(img=img, pt1=leftUp, pt2=leftDown, color=(0, 255, 0), thickness=3)\n",
    "        cv2.line(img=img, pt1=leftLeft, pt2=leftRight, color=(0, 255, 0), thickness=3)\n",
    "        \n",
    "        ratio = int((lengthVertically/lengthHorizontally) * 100)\n",
    "        ratioList.append(ratio)\n",
    "        \n",
    "        if len(ratioList) > 3:\n",
    "            ratioList.pop(0)\n",
    "        \n",
    "        ratioAvg = sum(ratioList) / len(ratioList)\n",
    "\n",
    "        if ratioAvg < 35 and counter == 0:\n",
    "            blickCounter += 1\n",
    "            counter = 1\n",
    "            color = (0, 255, 0)\n",
    "        \n",
    "        if counter != 0:\n",
    "            counter += 1\n",
    "            if counter > 10:\n",
    "                counter = 0\n",
    "                color = (0, 0, 255)\n",
    "            \n",
    "        cv2.putText(img=img,\n",
    "                    text=f\"Blink Counter: {blickCounter}\",\n",
    "                    org=(20, 30),\n",
    "                    fontFace=cv2.FONT_HERSHEY_SIMPLEX,\n",
    "                    fontScale=1,\n",
    "                    color=(0, 0, 255),\n",
    "                    thickness=3)\n",
    "\n",
    "        imgPlot = plotY.update(y=ratioAvg, color=color)\n",
    "        img = cv2.resize(src=img, dsize=(640, 360))\n",
    "        imgStack = cvzone.stackImages([img, imgPlot], 2, 1)\n",
    "    \n",
    "\n",
    "    cv2.imshow(winname=\"Video\", mat=imgStack)\n",
    "    if cv2.waitKey(delay=50) == ord(\"q\"): break\n",
    "    \n",
    "writer.release()\n",
    "video.release()\n",
    "cv2.destroyAllWindows()"
   ]
  },
  {
   "cell_type": "code",
   "execution_count": 63,
   "id": "a202f456-4dd8-4962-a3d0-518f2ec5552c",
   "metadata": {},
   "outputs": [
    {
     "data": {
      "text/plain": [
       "\u001b[1;31mSignature:\u001b[0m \u001b[0mcvzone\u001b[0m\u001b[1;33m.\u001b[0m\u001b[0mstackImages\u001b[0m\u001b[1;33m(\u001b[0m\u001b[0m_imgList\u001b[0m\u001b[1;33m,\u001b[0m \u001b[0mcols\u001b[0m\u001b[1;33m,\u001b[0m \u001b[0mscale\u001b[0m\u001b[1;33m)\u001b[0m\u001b[1;33m\u001b[0m\u001b[1;33m\u001b[0m\u001b[0m\n",
       "\u001b[1;31mDocstring:\u001b[0m\n",
       "Stack Images together to display in a single window\n",
       ":param _imgList: list of images to stack\n",
       ":param cols: the num of img in a row\n",
       ":param scale: bigger~1+ ans smaller~1-\n",
       ":return: Stacked Image\n",
       "\u001b[1;31mFile:\u001b[0m      c:\\users\\murat\\anaconda3\\lib\\site-packages\\cvzone\\utils.py\n",
       "\u001b[1;31mType:\u001b[0m      function\n"
      ]
     },
     "metadata": {},
     "output_type": "display_data"
    }
   ],
   "source": [
    "?cvzone.stackImages"
   ]
  }
 ],
 "metadata": {
  "kernelspec": {
   "display_name": "Python 3 (ipykernel)",
   "language": "python",
   "name": "python3"
  },
  "language_info": {
   "codemirror_mode": {
    "name": "ipython",
    "version": 3
   },
   "file_extension": ".py",
   "mimetype": "text/x-python",
   "name": "python",
   "nbconvert_exporter": "python",
   "pygments_lexer": "ipython3",
   "version": "3.9.12"
  }
 },
 "nbformat": 4,
 "nbformat_minor": 5
}
